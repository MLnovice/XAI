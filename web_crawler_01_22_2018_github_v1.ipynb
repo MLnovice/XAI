{
 "cells": [
  {
   "cell_type": "code",
   "execution_count": 12,
   "metadata": {
    "collapsed": true
   },
   "outputs": [],
   "source": [
    "import os\n",
    "import sys\n",
    "from bs4 import BeautifulSoup\n",
    "import requests\n",
    "from __future__ import print_function, unicode_literals\n",
    "import pandas as pd\n",
    "import numpy as np\n",
    "import csv"
   ]
  },
  {
   "cell_type": "code",
   "execution_count": 13,
   "metadata": {
    "collapsed": true
   },
   "outputs": [],
   "source": [
    "##############################################################"
   ]
  },
  {
   "cell_type": "code",
   "execution_count": 14,
   "metadata": {
    "collapsed": true
   },
   "outputs": [],
   "source": [
    "#get webpage\n",
    "def get_web(url):\n",
    "    r=requests.get(url)\n",
    "    c=r.content\n",
    "    decoded=BeautifulSoup(c, 'html.parser')\n",
    "    return decoded"
   ]
  },
  {
   "cell_type": "code",
   "execution_count": 15,
   "metadata": {
    "collapsed": true
   },
   "outputs": [],
   "source": [
    "##############################################################"
   ]
  },
  {
   "cell_type": "code",
   "execution_count": 16,
   "metadata": {
    "collapsed": true
   },
   "outputs": [],
   "source": [
    "#get Naver Finance web page\n",
    "exchange_address='http://finance.naver.com/marketindex/?tabSel=exchange#tab_section'\n",
    "content=get_web(exchange_address)"
   ]
  },
  {
   "cell_type": "code",
   "execution_count": 17,
   "metadata": {
    "collapsed": true
   },
   "outputs": [],
   "source": [
    "#find currency exchange rate\n",
    "current_exchange=[]\n",
    "for table in content.findAll('div', {'class':'data'}):\n",
    "    for body in table.findAll('span', {'class':'value'}):\n",
    "        current_exchange.append(body.string)"
   ]
  },
  {
   "cell_type": "code",
   "execution_count": 18,
   "metadata": {
    "collapsed": true
   },
   "outputs": [],
   "source": [
    "##############################################################"
   ]
  },
  {
   "cell_type": "code",
   "execution_count": 19,
   "metadata": {
    "collapsed": true
   },
   "outputs": [],
   "source": [
    "#get web page2\n",
    "rate_address='http://www.global-rates.com/interest-rates/central-banks/central-banks.aspx'\n",
    "content2=get_web(rate_address)"
   ]
  },
  {
   "cell_type": "code",
   "execution_count": 20,
   "metadata": {
    "collapsed": true
   },
   "outputs": [],
   "source": [
    "#find base interest rate\n",
    "base_rate=[]\n",
    "for table in content2.findAll('tr'):\n",
    "      for body in table.findAll('tr', {'class':'tabledata1'}):\n",
    "            for number in body.findAll('td'):\n",
    "                 base_rate.append(number.string)\n",
    "\n",
    "base_rate2=[]\n",
    "for table in content2.findAll('tr'):\n",
    "      for body in table.findAll('tr', {'class':'tabledata2'}):\n",
    "            for number in body.findAll('td'):\n",
    "                    base_rate2.append(number.string) \n",
    "                    \n",
    "usd=base_rate[2].replace('\\xa0','')\n",
    "eur=base_rate[32].replace('\\xa0','')\n",
    "krw=base_rate2[8].replace('\\xa0','')\n",
    "cny=base_rate2[20].replace('\\xa0','')\n",
    "jpy=base_rate2[44].replace('\\xa0','')"
   ]
  },
  {
   "cell_type": "code",
   "execution_count": 21,
   "metadata": {
    "collapsed": true
   },
   "outputs": [],
   "source": [
    "exchange_rate_total=[current_exchange[0], current_exchange[2], current_exchange[1], current_exchange[3],'-']\n",
    "base_rate_total=[usd, eur, jpy, cny, krw]\n",
    "total=[exchange_rate_total, base_rate_total]\n",
    "\n",
    "array=np.array(total)\n",
    "df=pd.DataFrame(array, columns=['미국','유럽','일본','중국', '한국'])"
   ]
  },
  {
   "cell_type": "code",
   "execution_count": 22,
   "metadata": {},
   "outputs": [
    {
     "data": {
      "text/html": [
       "<div>\n",
       "<style>\n",
       "    .dataframe thead tr:only-child th {\n",
       "        text-align: right;\n",
       "    }\n",
       "\n",
       "    .dataframe thead th {\n",
       "        text-align: left;\n",
       "    }\n",
       "\n",
       "    .dataframe tbody tr th {\n",
       "        vertical-align: top;\n",
       "    }\n",
       "</style>\n",
       "<table border=\"1\" class=\"dataframe\">\n",
       "  <thead>\n",
       "    <tr style=\"text-align: right;\">\n",
       "      <th></th>\n",
       "      <th>미국</th>\n",
       "      <th>유럽</th>\n",
       "      <th>일본</th>\n",
       "      <th>중국</th>\n",
       "      <th>한국</th>\n",
       "    </tr>\n",
       "  </thead>\n",
       "  <tbody>\n",
       "    <tr>\n",
       "      <th>환전 고시 환율</th>\n",
       "      <td>1,071.20</td>\n",
       "      <td>1,318.54</td>\n",
       "      <td>973.42</td>\n",
       "      <td>167.48</td>\n",
       "      <td>-</td>\n",
       "    </tr>\n",
       "    <tr>\n",
       "      <th>기준 금리</th>\n",
       "      <td>1.500%</td>\n",
       "      <td>0.000%</td>\n",
       "      <td>-0.100%</td>\n",
       "      <td>4.350%</td>\n",
       "      <td>1.500%</td>\n",
       "    </tr>\n",
       "  </tbody>\n",
       "</table>\n",
       "</div>"
      ],
      "text/plain": [
       "                미국        유럽       일본      중국      한국\n",
       "환전 고시 환율  1,071.20  1,318.54   973.42  167.48       -\n",
       "기준 금리       1.500%    0.000%  -0.100%  4.350%  1.500%"
      ]
     },
     "execution_count": 22,
     "metadata": {},
     "output_type": "execute_result"
    }
   ],
   "source": [
    "df.rename(index={0:\"환전 고시 환율\", 1:\"기준 금리\"})"
   ]
  }
 ],
 "metadata": {
  "kernelspec": {
   "display_name": "Python 3",
   "language": "python",
   "name": "python3"
  },
  "language_info": {
   "codemirror_mode": {
    "name": "ipython",
    "version": 3
   },
   "file_extension": ".py",
   "mimetype": "text/x-python",
   "name": "python",
   "nbconvert_exporter": "python",
   "pygments_lexer": "ipython3",
   "version": "3.6.1"
  }
 },
 "nbformat": 4,
 "nbformat_minor": 2
}
